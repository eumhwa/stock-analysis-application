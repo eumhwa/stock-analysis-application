{
 "cells": [
  {
   "cell_type": "code",
   "execution_count": 1,
   "id": "86e057bc-7ff8-4b60-b670-6aca1338a3c5",
   "metadata": {},
   "outputs": [],
   "source": [
    "import os\n",
    "import copy\n",
    "import json\n",
    "from pathlib import Path\n",
    "import warnings\n",
    "\n",
    "import numpy as np\n",
    "import pandas as pd\n",
    "import pytorch_lightning as pl\n",
    "from pytorch_lightning.callbacks import EarlyStopping, LearningRateMonitor\n",
    "from pytorch_lightning.loggers import TensorBoardLogger\n",
    "import torch\n",
    "\n",
    "from pytorch_forecasting import Baseline, TemporalFusionTransformer, TimeSeriesDataSet\n",
    "from pytorch_forecasting.data import GroupNormalizer\n",
    "from pytorch_forecasting.metrics import SMAPE, PoissonLoss, QuantileLoss\n",
    "from pytorch_forecasting.models.temporal_fusion_transformer.tuning import optimize_hyperparameters"
   ]
  },
  {
   "cell_type": "code",
   "execution_count": 13,
   "id": "24f08c02-ef5a-48c1-b909-fa05fa9e0cc1",
   "metadata": {},
   "outputs": [],
   "source": [
    "job_id = \"3dcgyav\" # os.environ[\"job_id\"]\n",
    "data_path = f\"/code/data/{job_id}\"\n",
    "\n",
    "with open(os.path.join(data_path, \"data.json\"), \"r\", encoding=\"UTF-8\") as f:\n",
    "    data = json.load(f)\n",
    "\n",
    "with open(os.path.join(data_path, \"config.json\"), \"r\", encoding=\"UTF-8\") as c:\n",
    "    config = json.load(c)"
   ]
  },
  {
   "cell_type": "code",
   "execution_count": 14,
   "id": "35514e86-8235-4c18-a8ad-5d9062a003ad",
   "metadata": {},
   "outputs": [],
   "source": [
    "df = pd.read_json(data, orient=\"key\")\n",
    "df[\"date\"] = pd.to_datetime(df[\"date\"])"
   ]
  },
  {
   "cell_type": "code",
   "execution_count": 15,
   "id": "f275a133-f4b6-4b04-be74-78d7e571e573",
   "metadata": {},
   "outputs": [
    {
     "data": {
      "text/html": [
       "<div>\n",
       "<style scoped>\n",
       "    .dataframe tbody tr th:only-of-type {\n",
       "        vertical-align: middle;\n",
       "    }\n",
       "\n",
       "    .dataframe tbody tr th {\n",
       "        vertical-align: top;\n",
       "    }\n",
       "\n",
       "    .dataframe thead th {\n",
       "        text-align: right;\n",
       "    }\n",
       "</style>\n",
       "<table border=\"1\" class=\"dataframe\">\n",
       "  <thead>\n",
       "    <tr style=\"text-align: right;\">\n",
       "      <th></th>\n",
       "      <th>date</th>\n",
       "      <th>last_price</th>\n",
       "      <th>start_price</th>\n",
       "      <th>high_price</th>\n",
       "      <th>low_price</th>\n",
       "      <th>volume</th>\n",
       "    </tr>\n",
       "  </thead>\n",
       "  <tbody>\n",
       "    <tr>\n",
       "      <th>0</th>\n",
       "      <td>2021-01-04</td>\n",
       "      <td>83000</td>\n",
       "      <td>81000</td>\n",
       "      <td>84400</td>\n",
       "      <td>80200</td>\n",
       "      <td>38655276</td>\n",
       "    </tr>\n",
       "    <tr>\n",
       "      <th>1</th>\n",
       "      <td>2021-01-05</td>\n",
       "      <td>83900</td>\n",
       "      <td>81600</td>\n",
       "      <td>83900</td>\n",
       "      <td>81600</td>\n",
       "      <td>35335669</td>\n",
       "    </tr>\n",
       "    <tr>\n",
       "      <th>2</th>\n",
       "      <td>2021-01-06</td>\n",
       "      <td>82200</td>\n",
       "      <td>83300</td>\n",
       "      <td>84500</td>\n",
       "      <td>82100</td>\n",
       "      <td>42089013</td>\n",
       "    </tr>\n",
       "    <tr>\n",
       "      <th>3</th>\n",
       "      <td>2021-01-07</td>\n",
       "      <td>82900</td>\n",
       "      <td>82800</td>\n",
       "      <td>84200</td>\n",
       "      <td>82700</td>\n",
       "      <td>32644642</td>\n",
       "    </tr>\n",
       "    <tr>\n",
       "      <th>4</th>\n",
       "      <td>2021-01-08</td>\n",
       "      <td>88800</td>\n",
       "      <td>83300</td>\n",
       "      <td>90000</td>\n",
       "      <td>83000</td>\n",
       "      <td>59013307</td>\n",
       "    </tr>\n",
       "  </tbody>\n",
       "</table>\n",
       "</div>"
      ],
      "text/plain": [
       "        date  last_price  start_price  high_price  low_price    volume\n",
       "0 2021-01-04       83000        81000       84400      80200  38655276\n",
       "1 2021-01-05       83900        81600       83900      81600  35335669\n",
       "2 2021-01-06       82200        83300       84500      82100  42089013\n",
       "3 2021-01-07       82900        82800       84200      82700  32644642\n",
       "4 2021-01-08       88800        83300       90000      83000  59013307"
      ]
     },
     "execution_count": 15,
     "metadata": {},
     "output_type": "execute_result"
    }
   ],
   "source": [
    "df.head()"
   ]
  },
  {
   "cell_type": "code",
   "execution_count": 16,
   "id": "f3e1ad96-3f01-48a5-aa03-980b344b1cf8",
   "metadata": {},
   "outputs": [
    {
     "data": {
      "text/plain": [
       "{'model_name': 'TFT',\n",
       " 'valid_rate': 0.8,\n",
       " 'input_window': 3,\n",
       " 'output_window': 1,\n",
       " 'job_id': '3dcgyav'}"
      ]
     },
     "execution_count": 16,
     "metadata": {},
     "output_type": "execute_result"
    }
   ],
   "source": [
    "config"
   ]
  },
  {
   "cell_type": "code",
   "execution_count": null,
   "id": "9b0a5c3b-1aa7-408b-8051-84e838133a7d",
   "metadata": {},
   "outputs": [],
   "source": []
  }
 ],
 "metadata": {
  "kernelspec": {
   "display_name": "Python 3 (ipykernel)",
   "language": "python",
   "name": "python3"
  },
  "language_info": {
   "codemirror_mode": {
    "name": "ipython",
    "version": 3
   },
   "file_extension": ".py",
   "mimetype": "text/x-python",
   "name": "python",
   "nbconvert_exporter": "python",
   "pygments_lexer": "ipython3",
   "version": "3.7.11"
  }
 },
 "nbformat": 4,
 "nbformat_minor": 5
}
